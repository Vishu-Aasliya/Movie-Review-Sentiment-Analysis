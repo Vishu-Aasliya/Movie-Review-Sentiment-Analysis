{
 "cells": [
  {
   "cell_type": "markdown",
   "id": "d882fa7e",
   "metadata": {},
   "source": [
    "# Movie Reviews Sentiment Analysis using NLP "
   ]
  },
  {
   "cell_type": "markdown",
   "id": "b812c2dd",
   "metadata": {},
   "source": [
    "### Import nltk module and movie review data"
   ]
  },
  {
   "cell_type": "code",
   "execution_count": 1,
   "id": "98ac5ab1",
   "metadata": {},
   "outputs": [],
   "source": [
    "import nltk\n",
    "from nltk.corpus import movie_reviews\n",
    "from nltk import pos_tag"
   ]
  },
  {
   "cell_type": "code",
   "execution_count": 2,
   "id": "917c0477",
   "metadata": {},
   "outputs": [
    {
     "data": {
      "text/plain": [
       "['neg/cv000_29416.txt',\n",
       " 'neg/cv001_19502.txt',\n",
       " 'neg/cv002_17424.txt',\n",
       " 'neg/cv003_12683.txt',\n",
       " 'neg/cv004_12641.txt',\n",
       " 'neg/cv005_29357.txt',\n",
       " 'neg/cv006_17022.txt',\n",
       " 'neg/cv007_4992.txt',\n",
       " 'neg/cv008_29326.txt',\n",
       " 'neg/cv009_29417.txt']"
      ]
     },
     "execution_count": 2,
     "metadata": {},
     "output_type": "execute_result"
    }
   ],
   "source": [
    "# Check field ids of movie reviews\n",
    "movie_reviews.fileids('neg')[0:10]"
   ]
  },
  {
   "cell_type": "code",
   "execution_count": 3,
   "id": "a2bea334",
   "metadata": {},
   "outputs": [
    {
     "data": {
      "text/plain": [
       "['it', 'is', 'movies', 'like', 'these', 'that', 'make', ...]"
      ]
     },
     "execution_count": 3,
     "metadata": {},
     "output_type": "execute_result"
    }
   ],
   "source": [
    "# movie_reviews.words(id) breaks the review with movie_id = id into words\n",
    "movie_reviews.words(movie_reviews.fileids()[2])"
   ]
  },
  {
   "cell_type": "markdown",
   "id": "caef427f",
   "metadata": {},
   "source": [
    "### Store the review data in a documents list which is made up of a tuple containing two enteries: a list of words and the category of the review"
   ]
  },
  {
   "cell_type": "code",
   "execution_count": 4,
   "id": "fecfc89c",
   "metadata": {},
   "outputs": [
    {
     "data": {
      "text/plain": [
       "[(['plot', ':', 'two', 'teen', 'couples', 'go', 'to', ...], 'neg'),\n",
       " (['the', 'happy', 'bastard', \"'\", 's', 'quick', 'movie', ...], 'neg'),\n",
       " (['it', 'is', 'movies', 'like', 'these', 'that', 'make', ...], 'neg'),\n",
       " (['\"', 'quest', 'for', 'camelot', '\"', 'is', 'warner', ...], 'neg'),\n",
       " (['synopsis', ':', 'a', 'mentally', 'unstable', 'man', ...], 'neg')]"
      ]
     },
     "execution_count": 4,
     "metadata": {},
     "output_type": "execute_result"
    }
   ],
   "source": [
    "documents = []\n",
    "for category in movie_reviews.categories():\n",
    "    for fileid in movie_reviews.fileids(category):\n",
    "        documents.append((movie_reviews.words(fileid), category))\n",
    "documents[0:5]"
   ]
  },
  {
   "cell_type": "code",
   "execution_count": 5,
   "id": "c934e2a0",
   "metadata": {},
   "outputs": [
    {
     "data": {
      "text/plain": [
       "[(['in', '1970s', ',', 'many', 'european', ...], 'neg'),\n",
       " (['actually', ',', 'i', \"'\", 'm', 'fairly', 'sure', ...], 'neg'),\n",
       " (['the', 'happy', 'bastard', \"'\", 's', 'quick', 'movie', ...], 'neg'),\n",
       " (['at', 'first', 'glance', ',', 'daylight', 'would', ...], 'pos'),\n",
       " (['in', '1912', ',', 'a', 'ship', 'set', 'sail', 'on', ...], 'pos')]"
      ]
     },
     "execution_count": 5,
     "metadata": {},
     "output_type": "execute_result"
    }
   ],
   "source": [
    "# Shuffle the enteries to obtain a good mix of data\n",
    "import random\n",
    "random.shuffle(documents)\n",
    "documents[0:5]"
   ]
  },
  {
   "cell_type": "markdown",
   "id": "8273f07e",
   "metadata": {},
   "source": [
    "### Import WordNetLemmatizer and create a lemmatizer object"
   ]
  },
  {
   "cell_type": "code",
   "execution_count": 6,
   "id": "2c0c78b6",
   "metadata": {},
   "outputs": [],
   "source": [
    "from nltk.stem import WordNetLemmatizer\n",
    "lemmatizer = WordNetLemmatizer()"
   ]
  },
  {
   "cell_type": "markdown",
   "id": "fa36ad8a",
   "metadata": {},
   "source": [
    "### A function to convert the Part Of Speech given by pos_tag to one accepted by the lemmatizer"
   ]
  },
  {
   "cell_type": "code",
   "execution_count": 7,
   "id": "a0766b01",
   "metadata": {},
   "outputs": [],
   "source": [
    "from nltk.corpus import wordnet\n",
    "def get_simple_pos(tag):\n",
    "    \n",
    "    if tag.startswith('J'):\n",
    "        return wordnet.ADJ\n",
    "    elif tag.startswith('V'):\n",
    "        return wordnet.VERB\n",
    "    elif tag.startswith('N'):\n",
    "        return wordnet.NOUN\n",
    "    elif tag.startswith('R'):\n",
    "        return wordnet.ADV\n",
    "    else:\n",
    "        return wordnet.NOUN"
   ]
  },
  {
   "cell_type": "markdown",
   "id": "eed69b66",
   "metadata": {},
   "source": [
    "### Make a list of all the stop words and punctuations"
   ]
  },
  {
   "cell_type": "code",
   "execution_count": 8,
   "id": "e7cee425",
   "metadata": {},
   "outputs": [],
   "source": [
    "from nltk.corpus import stopwords\n",
    "import string\n",
    "stops = set(stopwords.words('english'))\n",
    "punctuations = list(string.punctuation)\n",
    "stops.update(punctuations)"
   ]
  },
  {
   "cell_type": "markdown",
   "id": "d3f8f617",
   "metadata": {},
   "source": [
    "### Function to clean a list of words by doing two steps\n",
    "   #### 1. Removing stop words\n",
    "   #### 2. Lemmatizing the words (make all words as root words , Eg, playing, played are transformed to play)"
   ]
  },
  {
   "cell_type": "code",
   "execution_count": 9,
   "id": "d209e1a4",
   "metadata": {},
   "outputs": [],
   "source": [
    "def clean_review(words):\n",
    "    output_words = []\n",
    "    for w in words:\n",
    "        if w.lower() not in stops:\n",
    "            pos = pos_tag([w])\n",
    "            clean_word = lemmatizer.lemmatize(w, pos = get_simple_pos(pos[0][1]))\n",
    "            output_words.append(clean_word.lower())\n",
    "    return output_words"
   ]
  },
  {
   "cell_type": "code",
   "execution_count": 10,
   "id": "4293352d",
   "metadata": {},
   "outputs": [],
   "source": [
    "# Call function on all reviews\n",
    "documents = [(clean_review(document), category) for document, category in documents]"
   ]
  },
  {
   "cell_type": "markdown",
   "id": "7d15185e",
   "metadata": {},
   "source": [
    "### Import the module Count Vectorizer to convert data in 2D array format"
   ]
  },
  {
   "cell_type": "code",
   "execution_count": 11,
   "id": "fe629e7b",
   "metadata": {},
   "outputs": [],
   "source": [
    "from sklearn.feature_extraction.text import CountVectorizer\n",
    "from sklearn.model_selection import train_test_split"
   ]
  },
  {
   "cell_type": "markdown",
   "id": "1670f001",
   "metadata": {},
   "source": [
    "### Divide data into X and Y i.e text_documents and categories"
   ]
  },
  {
   "cell_type": "code",
   "execution_count": 12,
   "id": "5cdc5aa3",
   "metadata": {},
   "outputs": [],
   "source": [
    "text_documents = [\" \".join(document) for document, category in documents]\n",
    "categories = [category for document, category in documents]"
   ]
  },
  {
   "cell_type": "markdown",
   "id": "479864d9",
   "metadata": {},
   "source": [
    "### Split data into testing and training data"
   ]
  },
  {
   "cell_type": "code",
   "execution_count": 13,
   "id": "072fbf53",
   "metadata": {},
   "outputs": [],
   "source": [
    "x_train, x_test, y_train, y_test = train_test_split(text_documents, categories)"
   ]
  },
  {
   "cell_type": "code",
   "execution_count": 14,
   "id": "7bf662ed",
   "metadata": {},
   "outputs": [
    {
     "data": {
      "text/plain": [
       "matrix([[0, 0, 0, ..., 6, 1, 0],\n",
       "        [0, 0, 0, ..., 0, 0, 0],\n",
       "        [0, 0, 0, ..., 1, 0, 0],\n",
       "        ...,\n",
       "        [0, 0, 0, ..., 1, 0, 0],\n",
       "        [0, 0, 0, ..., 0, 0, 0],\n",
       "        [0, 0, 0, ..., 1, 0, 0]], dtype=int64)"
      ]
     },
     "execution_count": 14,
     "metadata": {},
     "output_type": "execute_result"
    }
   ],
   "source": [
    "count_vec = CountVectorizer(max_features = 2000, ngram_range=(1,2), max_df = 0.8)\n",
    "x_train_features = count_vec.fit_transform(x_train)\n",
    "x_train_features.todense()"
   ]
  },
  {
   "cell_type": "code",
   "execution_count": 15,
   "id": "014de823",
   "metadata": {},
   "outputs": [],
   "source": [
    "x_test_features = count_vec.transform(x_test)"
   ]
  },
  {
   "cell_type": "markdown",
   "id": "eedf95f6",
   "metadata": {},
   "source": [
    "### Apply any classification model to the data"
   ]
  },
  {
   "cell_type": "markdown",
   "id": "a02804b8",
   "metadata": {},
   "source": [
    "#### 1. SVC"
   ]
  },
  {
   "cell_type": "code",
   "execution_count": 16,
   "id": "52667fec",
   "metadata": {},
   "outputs": [
    {
     "data": {
      "text/plain": [
       "0.846"
      ]
     },
     "execution_count": 16,
     "metadata": {},
     "output_type": "execute_result"
    }
   ],
   "source": [
    "from sklearn.svm import SVC\n",
    "svc = SVC()\n",
    "svc.fit(x_train_features, y_train)\n",
    "svc.score(x_test_features, y_test)"
   ]
  },
  {
   "cell_type": "markdown",
   "id": "3f3e5022",
   "metadata": {},
   "source": [
    "#### 2. Logistic Regression"
   ]
  },
  {
   "cell_type": "code",
   "execution_count": 17,
   "id": "fec9a3a7",
   "metadata": {},
   "outputs": [
    {
     "data": {
      "text/plain": [
       "0.86"
      ]
     },
     "execution_count": 17,
     "metadata": {},
     "output_type": "execute_result"
    }
   ],
   "source": [
    "from sklearn.linear_model import LogisticRegression\n",
    "\n",
    "model = LogisticRegression()\n",
    "model.fit(x_train_features, y_train)\n",
    "model.score(x_test_features, y_test)"
   ]
  },
  {
   "cell_type": "markdown",
   "id": "c64ce82d",
   "metadata": {},
   "source": [
    "#### 3. Decision Tree"
   ]
  },
  {
   "cell_type": "code",
   "execution_count": 18,
   "id": "b079fc83",
   "metadata": {},
   "outputs": [
    {
     "data": {
      "text/plain": [
       "0.664"
      ]
     },
     "execution_count": 18,
     "metadata": {},
     "output_type": "execute_result"
    }
   ],
   "source": [
    "from sklearn.tree import DecisionTreeClassifier\n",
    "model = DecisionTreeClassifier()\n",
    "model.fit(x_train_features, y_train)\n",
    "model.score(x_test_features, y_test)"
   ]
  },
  {
   "cell_type": "markdown",
   "id": "4fb0e159",
   "metadata": {},
   "source": [
    "#### 4. Random Forest"
   ]
  },
  {
   "cell_type": "code",
   "execution_count": 19,
   "id": "716e0480",
   "metadata": {},
   "outputs": [
    {
     "data": {
      "text/plain": [
       "0.828"
      ]
     },
     "execution_count": 19,
     "metadata": {},
     "output_type": "execute_result"
    }
   ],
   "source": [
    "from sklearn.ensemble import RandomForestClassifier\n",
    "\n",
    "model = RandomForestClassifier()\n",
    "model.fit(x_train_features, y_train)\n",
    "\n",
    "model.score(x_test_features, y_test)"
   ]
  },
  {
   "cell_type": "markdown",
   "id": "680c8645",
   "metadata": {},
   "source": [
    "#### 5. Naive Bayes"
   ]
  },
  {
   "cell_type": "code",
   "execution_count": 20,
   "id": "85fd2fff",
   "metadata": {},
   "outputs": [
    {
     "data": {
      "text/plain": [
       "0.74"
      ]
     },
     "execution_count": 20,
     "metadata": {},
     "output_type": "execute_result"
    }
   ],
   "source": [
    "from sklearn.naive_bayes import GaussianNB\n",
    "\n",
    "model = GaussianNB()\n",
    "model.fit(x_train_features.toarray(), y_train)\n",
    "\n",
    "model.score(x_test_features.toarray(), y_test)"
   ]
  },
  {
   "cell_type": "markdown",
   "id": "d2ed573d",
   "metadata": {},
   "source": [
    "#### 6. KNN"
   ]
  },
  {
   "cell_type": "code",
   "execution_count": 21,
   "id": "f43ba628",
   "metadata": {},
   "outputs": [
    {
     "data": {
      "text/plain": [
       "0.624"
      ]
     },
     "execution_count": 21,
     "metadata": {},
     "output_type": "execute_result"
    }
   ],
   "source": [
    "from sklearn.neighbors import KNeighborsClassifier\n",
    "\n",
    "model = KNeighborsClassifier(n_neighbors=5) \n",
    "model.fit(x_train_features.toarray(), y_train)\n",
    "\n",
    "model.score(x_test_features.toarray(), y_test)"
   ]
  },
  {
   "cell_type": "markdown",
   "id": "2741a946",
   "metadata": {},
   "source": [
    "#### 7. Multinomial Naive Bayes"
   ]
  },
  {
   "cell_type": "code",
   "execution_count": 22,
   "id": "0fbc1fe0",
   "metadata": {},
   "outputs": [
    {
     "data": {
      "text/plain": [
       "0.858"
      ]
     },
     "execution_count": 22,
     "metadata": {},
     "output_type": "execute_result"
    }
   ],
   "source": [
    "from sklearn.naive_bayes import MultinomialNB\n",
    "\n",
    "model = MultinomialNB() \n",
    "model.fit(x_train_features.toarray(), y_train)\n",
    "\n",
    "model.score(x_test_features.toarray(), y_test)"
   ]
  }
 ],
 "metadata": {
  "kernelspec": {
   "display_name": "Python 3 (ipykernel)",
   "language": "python",
   "name": "python3"
  },
  "language_info": {
   "codemirror_mode": {
    "name": "ipython",
    "version": 3
   },
   "file_extension": ".py",
   "mimetype": "text/x-python",
   "name": "python",
   "nbconvert_exporter": "python",
   "pygments_lexer": "ipython3",
   "version": "3.10.2"
  }
 },
 "nbformat": 4,
 "nbformat_minor": 5
}
